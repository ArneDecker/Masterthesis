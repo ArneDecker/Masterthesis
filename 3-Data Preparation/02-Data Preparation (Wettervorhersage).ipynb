{
 "cells": [
  {
   "cell_type": "code",
   "execution_count": 4,
   "id": "7292edee-49f0-418d-bd9d-8c7f5253a44d",
   "metadata": {},
   "outputs": [],
   "source": [
    "import pandas as pd\n",
    "pd.set_option('display.expand_frame_repr', False)\n",
    "\n",
    "from sklearn.preprocessing import MinMaxScaler\n",
    "import joblib\n",
    "\n",
    "import sys\n",
    "sys.path.insert(0, \"../\")\n",
    "import functions"
   ]
  },
  {
   "cell_type": "markdown",
   "id": "4622a70e-b317-4cf6-b23a-5eda3ae760f5",
   "metadata": {},
   "source": [
    "# <font size=\"7\">Feature Selection</font>\n",
    "<font size=\"5\">Die Feature Selection erfolgt analog zum Prozess für die Trainingsdaten.</font>"
   ]
  },
  {
   "cell_type": "code",
   "execution_count": 5,
   "id": "306de51e-bd94-462c-8588-1d2028809d19",
   "metadata": {},
   "outputs": [
    {
     "name": "stdout",
     "output_type": "stream",
     "text": [
      "            verbrauch  arbeitstag  temperatur sonnenaufgang sonnenuntergang\n",
      "datum                                                                      \n",
      "2021-08-01     128451           0        15.0      04:57 AM        08:01 PM\n",
      "2021-08-02     169754           1        16.1      04:58 AM        08:00 PM\n",
      "2021-08-03     174071           1        15.2      05:00 AM        07:58 PM\n",
      "2021-08-04     171961           1        14.0      05:01 AM        07:57 PM\n",
      "2021-08-05     169184           1        14.3      05:02 AM        07:55 PM\n",
      "\n",
      "            count           mean           std       min       25%       50%       75%       max\n",
      "verbrauch   153.0  181321.418301  27080.794443  119860.0  161508.0  187846.0  202666.0  231130.0\n",
      "arbeitstag  153.0       0.712418      0.454122       0.0       0.0       1.0       1.0       1.0\n",
      "temperatur  153.0      10.216993      6.144604      -2.0       5.5       9.9      15.3      23.8\n"
     ]
    }
   ],
   "source": [
    "#Daten aus CSV-Datei laden\n",
    "df = pd.read_csv(\"../2-Data Understanding/Datenbeschaffung/verbrauch.csv\", index_col=0, usecols=[0, 1, 5], parse_dates=True)\n",
    "df.index.freq = \"D\"\n",
    "\n",
    "#Temperatur hinzufügen\n",
    "df_ = pd.read_csv(\"../2-Data Understanding/Datenbeschaffung/kalender.csv\", index_col=0, parse_dates=True, usecols=[0,2])\n",
    "df_ = df_.join(pd.read_csv(\"../2-Data Understanding/Datenbeschaffung/stuttgart_vorhersage.csv\", index_col=0, parse_dates=True, usecols=[0,2], squeeze=True).rename(\"stuttgart\"))\n",
    "df_ = df_.join(pd.read_csv(\"../2-Data Understanding/Datenbeschaffung/freiburg_vorhersage.csv\", index_col=0, parse_dates=True, usecols=[0,2], squeeze=True).rename(\"freiburg\"))\n",
    "df_ = df_.join(pd.read_csv(\"../2-Data Understanding/Datenbeschaffung/mannheim_vorhersage.csv\", index_col=0, parse_dates=True, usecols=[0,2], squeeze=True).rename(\"mannheim\"))\n",
    "df_ = df_.join(pd.read_csv(\"../2-Data Understanding/Datenbeschaffung/ulm_vorhersage.csv\", index_col=0, parse_dates=True, usecols=[0,2], squeeze=True).rename(\"ulm\"))\n",
    "\n",
    "df[\"temperatur\"] = round(((df_[\"stuttgart\"] + df_[\"freiburg\"] + df_[\"mannheim\"] + df_[\"ulm\"]) / 4), 1)\n",
    "\n",
    "#Sonnenauf-/Sonnenuntergang für Tagesstunden hinzufügen\n",
    "df = df[\"2021-08-01\":].join(pd.read_csv(\"../2-Data Understanding/Datenbeschaffung/stuttgart.csv\", index_col=0, parse_dates=True, usecols=[0, 8, 9]))\n",
    "\n",
    "#DataFrame ausgeben\n",
    "print(df.head())\n",
    "print()\n",
    "print(df.describe().transpose())"
   ]
  },
  {
   "cell_type": "markdown",
   "id": "5ab5e6e2-1685-427d-9ab1-361ebaae70b3",
   "metadata": {},
   "source": [
    "# <font size=\"7\">Feature Engineering</font>\n",
    "<font size=\"5\">Das Feature Engineering erfolgt analog zum Prozess für die Trainingsdaten.</font>"
   ]
  },
  {
   "cell_type": "code",
   "execution_count": 6,
   "id": "bc131a5f-b848-4360-989b-2c600fb83194",
   "metadata": {},
   "outputs": [
    {
     "name": "stdout",
     "output_type": "stream",
     "text": [
      "            verbrauch  arbeitstag  temperatur  tagesstunden\n",
      "datum                                                      \n",
      "2021-08-01     128451           0        15.0          15.1\n",
      "2021-08-02     169754           1        16.1          15.0\n",
      "2021-08-03     174071           1        15.2          15.0\n",
      "2021-08-04     171961           1        14.0          14.9\n",
      "2021-08-05     169184           1        14.3          14.9\n",
      "\n",
      "              count           mean           std       min       25%       50%       75%       max\n",
      "verbrauch     153.0  181321.418301  27080.794443  119860.0  161508.0  187846.0  202666.0  231130.0\n",
      "arbeitstag    153.0       0.712418      0.454122       0.0       0.0       1.0       1.0       1.0\n",
      "temperatur    153.0      10.216993      6.144604      -2.0       5.5       9.9      15.3      23.8\n",
      "tagesstunden  153.0      11.044444      2.228313       8.3       8.9      10.8      13.0      15.1\n"
     ]
    }
   ],
   "source": [
    "#Merkmal für Tagesstunden erzeugen\n",
    "\n",
    "#Tagesstunden berechnen\n",
    "df[\"tagesstunden\"] = round((pd.to_timedelta(\n",
    "    pd.to_datetime(df[\"sonnenuntergang\"]).dt.strftime(\"%H:%M:%S\")).dt.total_seconds() - \n",
    "    pd.to_timedelta(pd.to_datetime(df[\"sonnenaufgang\"]).dt.strftime(\"%H:%M:%S\")).dt.total_seconds()) / 3600, 1)\n",
    "\n",
    "#Sonnenaufgang und Sonnenuntergang werden durch Tagesstunden ersetzt\n",
    "df.drop([\"sonnenaufgang\", \"sonnenuntergang\"], axis=1, inplace=True)\n",
    "\n",
    "#DataFrame ausgeben\n",
    "print(df.head())\n",
    "print()\n",
    "print(df.describe().transpose())"
   ]
  },
  {
   "cell_type": "markdown",
   "id": "a74f0057-cce0-4d70-8731-94eda741f81b",
   "metadata": {},
   "source": [
    "# <font size=\"7\">Featurization</font>\n",
    "<font size=\"5\">Die Featurization erfolgt analog zum Prozess für die Trainingsdaten.</font>"
   ]
  },
  {
   "cell_type": "code",
   "execution_count": 13,
   "id": "3bde385d-6b61-4957-89b1-6a1b8ed6145d",
   "metadata": {},
   "outputs": [],
   "source": [
    "#Alle Daten speichern\n",
    "df.to_csv(\"wettervorhersage.csv\")\n",
    "\n",
    "#Merkmale sklaieren\n",
    "exog = df[[\"arbeitstag\", \"temperatur\", \"tagesstunden\"]]\n",
    "\n",
    "scaler_exog = joblib.load(\"scaler_exog.save\")\n",
    "\n",
    "scaled_exog = pd.DataFrame(scaler_exog.transform(exog), columns=exog.columns, index=exog.index)\n",
    "\n",
    "#Ziel skalieren\n",
    "endog = df[\"verbrauch\"]\n",
    "\n",
    "scaler_endog = joblib.load(\"scaler_endog.save\")\n",
    "\n",
    "scaled_endog = pd.DataFrame(scaler_endog.transform(endog.values.reshape(-1, 1)), columns=[\"verbrauch\"], index=endog.index)\n",
    "\n",
    "#Ziel und Merkmale zusammenführen\n",
    "data_scaled = scaled_endog.join(scaled_exog)\n",
    "data_scaled.to_csv(\"wettervorhersage_scaled.csv\")"
   ]
  }
 ],
 "metadata": {
  "kernelspec": {
   "display_name": "Python 3",
   "language": "python",
   "name": "python3"
  },
  "language_info": {
   "codemirror_mode": {
    "name": "ipython",
    "version": 3
   },
   "file_extension": ".py",
   "mimetype": "text/x-python",
   "name": "python",
   "nbconvert_exporter": "python",
   "pygments_lexer": "ipython3",
   "version": "3.8.8"
  }
 },
 "nbformat": 4,
 "nbformat_minor": 5
}
