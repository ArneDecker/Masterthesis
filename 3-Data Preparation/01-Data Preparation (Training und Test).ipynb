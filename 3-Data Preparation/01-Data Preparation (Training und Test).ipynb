{
 "cells": [
  {
   "cell_type": "code",
   "execution_count": 1,
   "id": "f8b5ca45-73c6-4bc1-b84e-f86fd11fdf9e",
   "metadata": {},
   "outputs": [],
   "source": [
    "import pandas as pd\n",
    "pd.set_option('display.expand_frame_repr', False)\n",
    "\n",
    "from sklearn.preprocessing import MinMaxScaler\n",
    "import joblib\n",
    "\n",
    "import sys\n",
    "sys.path.insert(0, \"../\")\n",
    "import functions"
   ]
  },
  {
   "cell_type": "markdown",
   "id": "825977b1-e67b-44e1-af4c-7f0b68eb90a5",
   "metadata": {},
   "source": [
    "# <font size=\"7\">Feature Selection</font>"
   ]
  },
  {
   "cell_type": "markdown",
   "id": "04f67baa-fe25-48de-8b93-dcccadba922f",
   "metadata": {},
   "source": [
    "<font size=\"5\">Im Rahmen der Feature Selection werden die im Data Understanding als unrelevant beziehungsweise unbrauchbar ermittelten Daten entfernt. Übrig bleiben daher nur die aussagekräftigen und für die Modellierung brauchbaren Merkmale:</font>\n",
    "<ul>\n",
    "    <li><font size=\"5\">Verbrauch</font></li>\n",
    "    <li><font size=\"5\">Arbeitstag</font></li>\n",
    "    <li><font size=\"5\">Temperatur</font></li>\n",
    "    <li><font size=\"5\">Sonnenaufgang</font></li>\n",
    "    <li><font size=\"5\">Sonnenuntergang</font></li>\n",
    "</ul>"
   ]
  },
  {
   "cell_type": "code",
   "execution_count": 2,
   "id": "03c6011e-f5bd-4a91-a82b-a746b8b04da9",
   "metadata": {},
   "outputs": [
    {
     "name": "stdout",
     "output_type": "stream",
     "text": [
      "            verbrauch  arbeitstag  temperatur sonnenaufgang sonnenuntergang\n",
      "datum                                                                      \n",
      "2015-01-01     126197           0        -2.5      08:16 AM        04:37 PM\n",
      "2015-01-02     147085           1        -0.0      08:16 AM        04:38 PM\n",
      "2015-01-03     141426           0         1.2      08:16 AM        04:39 PM\n",
      "2015-01-04     132446           0        -0.2      08:16 AM        04:40 PM\n",
      "2015-01-05     152611           1        -0.5      08:16 AM        04:41 PM\n",
      "\n",
      "             count           mean           std       min       25%       50%       75%       max\n",
      "verbrauch   2557.0  169329.063355  27116.871253  102469.0  147992.0  175584.0  190001.0  231190.0\n",
      "arbeitstag  2557.0       0.687133      0.463751       0.0       0.0       1.0       1.0       1.0\n",
      "temperatur  2557.0      11.706492      7.845246     -10.0       5.2      11.2      18.0      32.1\n"
     ]
    }
   ],
   "source": [
    "#Daten aus CSV-Datei laden\n",
    "df = pd.read_csv(\"../2-Data Understanding/Datenbeschaffung/verbrauch.csv\", index_col=0, usecols=[0, 1, 5], parse_dates=True)\n",
    "df.index.freq = \"D\"\n",
    "\n",
    "#Temperatur hinzufügen\n",
    "df_ = pd.read_csv(\"../2-Data Understanding/Datenbeschaffung/kalender.csv\", index_col=0, parse_dates=True, usecols=[0,2])\n",
    "df_ = df_.join(pd.read_csv(\"../2-Data Understanding/Datenbeschaffung/stuttgart.csv\", index_col=0, parse_dates=True, usecols=[0,2], squeeze=True).rename(\"stuttgart\"))\n",
    "df_ = df_.join(pd.read_csv(\"../2-Data Understanding/Datenbeschaffung/freiburg.csv\", index_col=0, parse_dates=True, usecols=[0,2], squeeze=True).rename(\"freiburg\"))\n",
    "df_ = df_.join(pd.read_csv(\"../2-Data Understanding/Datenbeschaffung/mannheim.csv\", index_col=0, parse_dates=True, usecols=[0,2], squeeze=True).rename(\"mannheim\"))\n",
    "df_ = df_.join(pd.read_csv(\"../2-Data Understanding/Datenbeschaffung/ulm.csv\", index_col=0, parse_dates=True, usecols=[0,2], squeeze=True).rename(\"ulm\"))\n",
    "\n",
    "df[\"temperatur\"] = round(((df_[\"stuttgart\"] + df_[\"freiburg\"] + df_[\"mannheim\"] + df_[\"ulm\"]) / 4), 1)\n",
    "\n",
    "#Sonnenauf-/Sonnenuntergang für Tagesstunden hinzufügen\n",
    "df = df.join(pd.read_csv(\"../2-Data Understanding/Datenbeschaffung/stuttgart.csv\", index_col=0, parse_dates=True, usecols=[0, 8, 9]))\n",
    "\n",
    "#DataFrame ausgeben\n",
    "print(df.head())\n",
    "print()\n",
    "print(df.describe().transpose())"
   ]
  },
  {
   "cell_type": "markdown",
   "id": "338a1a4a-78b3-4947-9924-69662271888a",
   "metadata": {},
   "source": [
    "# <font size=\"7\">Feature Engineering</font>"
   ]
  },
  {
   "cell_type": "markdown",
   "id": "ee1af9ee-1e1e-452f-b6be-d36482cd59ed",
   "metadata": {},
   "source": [
    "<font size=\"5\">Beim Feature Engineering werden neue Merkmale aus den bestehenden Daten/Merkmalen generiert. Im konkreten Fall wird die Anzahl an Tagesstunden aus dem Sonnenaufgang und Sonnenuntergang berechnet. Sonnenaufgang und Sonnenuntergang werden anschließend aus den Daten entfernt.</font>"
   ]
  },
  {
   "cell_type": "code",
   "execution_count": 3,
   "id": "7459841b-7eb1-48b1-813b-4d70ed9058cd",
   "metadata": {},
   "outputs": [
    {
     "name": "stdout",
     "output_type": "stream",
     "text": [
      "            verbrauch  arbeitstag  temperatur  tagesstunden\n",
      "datum                                                      \n",
      "2015-01-01     126197           0        -2.5           8.4\n",
      "2015-01-02     147085           1        -0.0           8.4\n",
      "2015-01-03     141426           0         1.2           8.4\n",
      "2015-01-04     132446           0        -0.2           8.4\n",
      "2015-01-05     152611           1        -0.5           8.4\n",
      "\n",
      "               count           mean           std       min       25%       50%       75%       max\n",
      "verbrauch     2557.0  169329.063355  27116.871253  102469.0  147992.0  175584.0  190001.0  231190.0\n",
      "arbeitstag    2557.0       0.687133      0.463751       0.0       0.0       1.0       1.0       1.0\n",
      "temperatur    2557.0      11.706492      7.845246     -10.0       5.2      11.2      18.0      32.1\n",
      "tagesstunden  2557.0      12.254634      2.700311       8.3       9.7      12.3      14.9      16.2\n"
     ]
    }
   ],
   "source": [
    "#Merkmal für Tagesstunden erzeugen\n",
    "\n",
    "#Tagesstunden berechnen\n",
    "df[\"tagesstunden\"] = round((pd.to_timedelta(\n",
    "    pd.to_datetime(df[\"sonnenuntergang\"]).dt.strftime(\"%H:%M:%S\")).dt.total_seconds() - \n",
    "    pd.to_timedelta(pd.to_datetime(df[\"sonnenaufgang\"]).dt.strftime(\"%H:%M:%S\")).dt.total_seconds()) / 3600, 1)\n",
    "\n",
    "#Sonnenaufgang und Sonnenuntergang werden durch Tagesstunden ersetzt\n",
    "df.drop([\"sonnenaufgang\", \"sonnenuntergang\"], axis=1, inplace=True)\n",
    "\n",
    "#DataFrame ausgeben\n",
    "print(df.head())\n",
    "print()\n",
    "print(df.describe().transpose())"
   ]
  },
  {
   "cell_type": "markdown",
   "id": "45a509ab-005f-422d-a096-fe85f8a933b1",
   "metadata": {},
   "source": [
    "# <font size=\"7\">Featurization</font>"
   ]
  },
  {
   "cell_type": "markdown",
   "id": "b7738f19-fafb-43a7-a744-0a628787eb14",
   "metadata": {},
   "source": [
    "<font size=\"5\">Bei der Featurization werden die vorhandenen Merkmale in ein für Algorithmen (besser) zu verarbeitendes Format umgewandelt. Konkret werden die Merkmale normalisiert, also auf eine Skala zwischen 0 und 1 transformiert. Dadurch müssen die Koeffizienten/Gewichte keine allzu großen Werte annehmen, außerdem sind die Abstände zwischen der Werten einzelner Merkmale besser interpretierbar.</font>\n",
    "\n",
    "<font size=\"5\">Um einen möglichst realistischen Test zu gewährleisten, werden die Scaler zunächst nur mit den Trainingsdaten erstellt, bevor die Daten umgewandelt werden. Ähnlich den Algorithmen sind den Scalern dadurch nur die Trainingsdaten bekannt. Wenn einzelne Beobachtungen außerhalb des Wertebereichs der Trainingsdaten liegen, dann transformiert der Scaler diese Daten (wie im tatsächlichen Einsatz) auf einen Bereich außerhalb von 0 oder 1.</font>\n",
    "\n",
    "<font size=\"5\">Die Daten werden sowohl skaliert wie auch unskaliert abgespeichert. Die Scaler weden ebenfalls gespeichert.</font>"
   ]
  },
  {
   "cell_type": "code",
   "execution_count": 5,
   "id": "6fb9cd55-55f9-4587-8792-39b39b2d8612",
   "metadata": {},
   "outputs": [],
   "source": [
    "#Alle Daten speichern\n",
    "df.to_csv(\"data.csv\")\n",
    "\n",
    "#Aufteilung in Trainings- und Testdaten\n",
    "train, test = functions.train_test_split(df, 365)\n",
    "\n",
    "#Merkmale sklaieren\n",
    "train_exog = train[[\"arbeitstag\", \"temperatur\", \"tagesstunden\"]]\n",
    "test_exog = test[[\"arbeitstag\", \"temperatur\", \"tagesstunden\"]]\n",
    "\n",
    "scaler_exog = MinMaxScaler(feature_range=(0,1))\n",
    "scaler_exog.fit(train_exog)\n",
    "\n",
    "scaled_train_exog = pd.DataFrame(scaler_exog.transform(train_exog), columns=train_exog.columns, index=train_exog.index)\n",
    "scaled_test_exog = pd.DataFrame(scaler_exog.transform(test_exog), columns=test_exog.columns, index=test_exog.index)\n",
    "\n",
    "#Ziel skalieren\n",
    "train_endog = train[\"verbrauch\"]\n",
    "test_endog = test[\"verbrauch\"]\n",
    "\n",
    "scaler_endog = MinMaxScaler(feature_range=(0,1))\n",
    "scaler_endog.fit(train_endog.values.reshape(-1,1))\n",
    "\n",
    "scaled_train_endog = pd.DataFrame(scaler_endog.transform(train_endog.values.reshape(-1, 1)), columns=[\"verbrauch\"], index=train_endog.index)\n",
    "scaled_test_endog = pd.DataFrame(scaler_endog.transform(test_endog.values.reshape(-1, 1)), columns=[\"verbrauch\"], index=test_endog.index)\n",
    "\n",
    "#Ziel und Merkmale zusammenführen\n",
    "train = scaled_train_endog.join(scaled_train_exog)\n",
    "test = scaled_test_endog.join(scaled_test_exog)\n",
    "\n",
    "data_scaled = train.append(test)\n",
    "data_scaled.to_csv(\"data_scaled.csv\")"
   ]
  },
  {
   "cell_type": "code",
   "execution_count": 5,
   "id": "0a6e79e9-c7fc-4f6f-81e0-3500c2956489",
   "metadata": {},
   "outputs": [
    {
     "data": {
      "text/plain": [
       "['scaler_endog.save']"
      ]
     },
     "execution_count": 5,
     "metadata": {},
     "output_type": "execute_result"
    }
   ],
   "source": [
    "#Skalierer speichern\n",
    "joblib.dump(scaler_exog, \"scaler_exog.save\")\n",
    "#scaler_exog = joblib.load(\"scaler_exog.save\")\n",
    "\n",
    "joblib.dump(scaler_endog, \"scaler_endog.save\")\n",
    "#scaler_endog = joblib.load(\"scaler_endog.save\")"
   ]
  }
 ],
 "metadata": {
  "kernelspec": {
   "display_name": "Python 3",
   "language": "python",
   "name": "python3"
  },
  "language_info": {
   "codemirror_mode": {
    "name": "ipython",
    "version": 3
   },
   "file_extension": ".py",
   "mimetype": "text/x-python",
   "name": "python",
   "nbconvert_exporter": "python",
   "pygments_lexer": "ipython3",
   "version": "3.8.8"
  }
 },
 "nbformat": 4,
 "nbformat_minor": 5
}
