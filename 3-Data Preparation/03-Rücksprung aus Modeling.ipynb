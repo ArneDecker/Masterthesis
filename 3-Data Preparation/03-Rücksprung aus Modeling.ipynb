{
 "cells": [
  {
   "cell_type": "code",
   "execution_count": 1,
   "id": "de4d851e-4a7b-44af-afef-52c7189749e2",
   "metadata": {},
   "outputs": [],
   "source": [
    "import pandas as pd\n",
    "pd.set_option('display.expand_frame_repr', False)"
   ]
  },
  {
   "cell_type": "markdown",
   "id": "c08c3f2e-4699-4024-a505-2b9301cdc603",
   "metadata": {},
   "source": [
    "# <font size=\"7\">Rücksprung aus Modeling</font>\n",
    "<font size=\"5\">Wie im Rahmen des Modelings für AIRMA festgestellt wurde, müssen die Daten angepasst werden. Die Tagesstunden werden aus den Daten entfernt, da sie nicht mehr für das Modeling benötigt werden. Stattdessen wird der Indikator für Arbeitstage an Tagen, die in der Urlaubssaison liegen (Ende Dezember/Anfang Januar), auf 0 gesetzt und daher als Wochenend- oder Feiertage behandelt. Die neuen Daten werden skaliert und unskaliert als \"arima_data_---.csv\" gespeichert</font>"
   ]
  },
  {
   "cell_type": "code",
   "execution_count": 2,
   "id": "c8320c6f-7617-462b-ba79-5a835f5b7472",
   "metadata": {},
   "outputs": [],
   "source": [
    "#Urlaubssaison laden\n",
    "df_urlaubssaison = pd.read_csv(\"../4-Modeling/Daten/urlaubssaison_2.csv\", index_col=0, parse_dates=True)\n",
    "\n",
    "#Unskalierte Daten laden und Arbeitstage überschreiben\n",
    "df_unscaled = pd.read_csv(\"../3-Data Preparation/data.csv\", index_col=0, parse_dates=True)\n",
    "df_unscaled.index.freq = \"D\"\n",
    "df_unscaled.loc[df_urlaubssaison[\"urlaubssaison\"] == 1, 'arbeitstag'] = 0\n",
    "\n",
    "df_unscaled.drop([\"tagesstunden\"], axis=1, inplace=True)\n",
    "\n",
    "#Skalierte Daten laden und Arbeitstage überschreiben\n",
    "df_scaled = pd.read_csv(\"../3-Data Preparation/data_scaled.csv\", index_col=0, parse_dates=True)\n",
    "df_scaled.index.freq = \"D\"\n",
    "df_scaled.loc[df_urlaubssaison[\"urlaubssaison\"] == 1, 'arbeitstag'] = 0\n",
    "\n",
    "df_scaled.drop([\"tagesstunden\"], axis=1, inplace=True)\n",
    "\n",
    "#Daten speichern\n",
    "df_unscaled.to_csv(\"arima_data_unscaled.csv\")\n",
    "df_scaled.to_csv(\"arima_data_scaled.csv\")"
   ]
  }
 ],
 "metadata": {
  "kernelspec": {
   "display_name": "Python 3",
   "language": "python",
   "name": "python3"
  },
  "language_info": {
   "codemirror_mode": {
    "name": "ipython",
    "version": 3
   },
   "file_extension": ".py",
   "mimetype": "text/x-python",
   "name": "python",
   "nbconvert_exporter": "python",
   "pygments_lexer": "ipython3",
   "version": "3.8.8"
  }
 },
 "nbformat": 4,
 "nbformat_minor": 5
}
