{
 "cells": [
  {
   "cell_type": "code",
   "execution_count": 2,
   "id": "98f51196-a1c2-4a82-9853-864e51b27022",
   "metadata": {},
   "outputs": [],
   "source": [
    "import pandas as pd\n",
    "import numpy as np\n",
    "\n",
    "import joblib\n",
    "\n",
    "#Funktion für RMSE erstellen\n",
    "from keras import backend as K\n",
    "def root_mean_squared_error(y_true, y_pred):\n",
    "    return K.sqrt(K.mean(K.square(y_pred - y_true)))\n",
    "\n",
    "#Skalierte Daten für Modellierung laden\n",
    "df_scaled = pd.read_csv(\"model_data/data_scaled.csv\", index_col=0, parse_dates=True)\n",
    "df_scaled.index.freq = \"D\"\n",
    "\n",
    "#Aufteilung X (Merkmale) und y (Ziel)\n",
    "X = df_scaled[[\"verbrauch\",\"arbeitstag\",\"temperatur\",\"tagesstunden\"]]\n",
    "#Stromverbrauch wird bei X um eine Stelle nach vorne verschoben, daher entfällt der 01.01.2015\n",
    "#X[\"arbeitstag\"] = X[\"arbeitstag\"].shift(-1)\n",
    "#X[\"temperatur\"] = X[\"temperatur\"].shift(-1)\n",
    "#X[\"tagesstunden\"] = X[\"tagesstunden\"].shift(-1)\n",
    "X = X[-14:]\n",
    "\n",
    "#Exogene Daten für nächsten Tag laden und skalieren\n",
    "df_exog_next_day = pd.read_csv(\"api_data/exog_next_day.csv\")\n",
    "\n",
    "scaler_exog = joblib.load(\"model_data/scaler_exog.save\")\n",
    "exog_next_day_scaled = scaler_exog.transform(df_exog_next_day)\n",
    "\n",
    "#Wettervorhersage in Zeitfenster einfügen\n",
    "X.iloc[len(X)-1][1] = exog_next_day_scaled[0][0]\n",
    "X.iloc[len(X)-1][2] = exog_next_day_scaled[0][1]\n",
    "X.iloc[len(X)-1][3] = exog_next_day_scaled[0][2]\n",
    "\n",
    "X_prediction = X.values.reshape(1,14,4)\n",
    "\n",
    "#Modell laden\n",
    "from tensorflow.keras.models import load_model\n",
    "model = load_model(\"model_data/LSTM.h5\", custom_objects={\"root_mean_squared_error\":root_mean_squared_error})\n",
    "\n",
    "#Vorhersage erstellen und invers-skalieren\n",
    "prediction_scaled = model.predict(X_prediction)\n",
    "\n",
    "scaler_endog = joblib.load(\"model_data/scaler_endog.save\")\n",
    "prediction = scaler_endog.inverse_transform(prediction_scaled)\n",
    "\n",
    "#Vorhersage speichern\n",
    "file = open(\"api_data/forecast.txt\", \"w\")\n",
    "file.write(str(prediction[0][0]))\n",
    "file.close()"
   ]
  }
 ],
 "metadata": {
  "kernelspec": {
   "display_name": "Python 3",
   "language": "python",
   "name": "python3"
  },
  "language_info": {
   "codemirror_mode": {
    "name": "ipython",
    "version": 3
   },
   "file_extension": ".py",
   "mimetype": "text/x-python",
   "name": "python",
   "nbconvert_exporter": "python",
   "pygments_lexer": "ipython3",
   "version": "3.8.8"
  }
 },
 "nbformat": 4,
 "nbformat_minor": 5
}
