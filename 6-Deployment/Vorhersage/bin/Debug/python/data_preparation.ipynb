{
 "cells": [
  {
   "cell_type": "code",
   "execution_count": 2,
   "id": "eb7bcea9-6d39-437c-9bd1-56edd22ed6ed",
   "metadata": {},
   "outputs": [
    {
     "data": {
      "text/plain": [
       "['model_data/scaler_endog.save']"
      ]
     },
     "execution_count": 2,
     "metadata": {},
     "output_type": "execute_result"
    }
   ],
   "source": [
    "import pandas as pd\n",
    "pd.set_option('display.expand_frame_repr', False)\n",
    "\n",
    "from sklearn.preprocessing import MinMaxScaler\n",
    "import joblib\n",
    "\n",
    "#Feature Selection####################################################################################################################################\n",
    "\n",
    "#Daten aus CSV-Datei laden\n",
    "df = pd.read_csv(\"input_data/verbrauch.csv\", index_col=0, usecols=[0, 1, 5], parse_dates=True)\n",
    "df.index.freq = \"D\"\n",
    "\n",
    "#Temperatur hinzufügen\n",
    "df_ = pd.read_csv(\"input_data/verbrauch.csv\", index_col=0, usecols=[0], parse_dates=True)\n",
    "df_ = df_.join(pd.read_csv(\"input_data/stuttgart.csv\", index_col=0, parse_dates=True, usecols=[0,2], squeeze=True).rename(\"stuttgart\"))\n",
    "df_ = df_.join(pd.read_csv(\"input_data/freiburg.csv\", index_col=0, parse_dates=True, usecols=[0,2], squeeze=True).rename(\"freiburg\"))\n",
    "df_ = df_.join(pd.read_csv(\"input_data/mannheim.csv\", index_col=0, parse_dates=True, usecols=[0,2], squeeze=True).rename(\"mannheim\"))\n",
    "df_ = df_.join(pd.read_csv(\"input_data/ulm.csv\", index_col=0, parse_dates=True, usecols=[0,2], squeeze=True).rename(\"ulm\"))\n",
    "\n",
    "df[\"temperatur\"] = round(((df_[\"stuttgart\"] + df_[\"freiburg\"] + df_[\"mannheim\"] + df_[\"ulm\"]) / 4), 1)\n",
    "\n",
    "#Sonnenauf-/Sonnenuntergang für Tagesstunden hinzufügen\n",
    "df = df.join(pd.read_csv(\"input_data/stuttgart.csv\", index_col=0, parse_dates=True, usecols=[0, 8, 9]))\n",
    "\n",
    "#Feature Engineering##################################################################################################################################\n",
    "\n",
    "#Tagesstunden berechnen\n",
    "df[\"tagesstunden\"] = round((pd.to_timedelta(\n",
    "    pd.to_datetime(df[\"sonnenuntergang\"]).dt.strftime(\"%H:%M:%S\")).dt.total_seconds() - \n",
    "    pd.to_timedelta(pd.to_datetime(df[\"sonnenaufgang\"]).dt.strftime(\"%H:%M:%S\")).dt.total_seconds()) / 3600, 1)\n",
    "\n",
    "#Sonnenaufgang und Sonnenuntergang werden durch Tagesstunden ersetzt\n",
    "df.drop([\"sonnenaufgang\", \"sonnenuntergang\"], axis=1, inplace=True)\n",
    "\n",
    "#Featurization########################################################################################################################################\n",
    "\n",
    "#Merkmale sklaieren\n",
    "exog = df[[\"arbeitstag\", \"temperatur\", \"tagesstunden\"]]\n",
    "\n",
    "scaler_exog = MinMaxScaler(feature_range=(0,1))\n",
    "scaler_exog.fit(exog)\n",
    "\n",
    "scaled_exog = pd.DataFrame(scaler_exog.transform(exog), columns=exog.columns, index=exog.index)\n",
    "\n",
    "#Ziel skalieren\n",
    "endog = df[\"verbrauch\"]\n",
    "\n",
    "scaler_endog = MinMaxScaler(feature_range=(0,1))\n",
    "scaler_endog.fit(endog.values.reshape(-1,1))\n",
    "\n",
    "scaled_endog = pd.DataFrame(scaler_endog.transform(endog.values.reshape(-1, 1)), columns=[\"verbrauch\"], index=endog.index)\n",
    "\n",
    "#Ziel und Merkmale zusammenführen\n",
    "df_scaled = scaled_endog.join(scaled_exog)\n",
    "\n",
    "#Daten speichern\n",
    "df.to_csv(\"model_data/data.csv\")\n",
    "df_scaled.to_csv(\"model_data/data_scaled.csv\")\n",
    "\n",
    "#Skalierer speichern\n",
    "joblib.dump(scaler_exog, \"model_data/scaler_exog.save\")\n",
    "#scaler_exog = joblib.load(\"scaler_exog.save\")\n",
    "\n",
    "joblib.dump(scaler_endog, \"model_data/scaler_endog.save\")\n",
    "#scaler_endog = joblib.load(\"scaler_endog.save\")"
   ]
  }
 ],
 "metadata": {
  "kernelspec": {
   "display_name": "Python 3",
   "language": "python",
   "name": "python3"
  },
  "language_info": {
   "codemirror_mode": {
    "name": "ipython",
    "version": 3
   },
   "file_extension": ".py",
   "mimetype": "text/x-python",
   "name": "python",
   "nbconvert_exporter": "python",
   "pygments_lexer": "ipython3",
   "version": "3.8.8"
  }
 },
 "nbformat": 4,
 "nbformat_minor": 5
}
