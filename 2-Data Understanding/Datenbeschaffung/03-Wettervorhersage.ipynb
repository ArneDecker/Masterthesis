{
 "cells": [
  {
   "cell_type": "markdown",
   "id": "004ea62b-be46-441b-a6a7-c43d30128624",
   "metadata": {},
   "source": [
    "# <font size=\"7\"> Datenbeschaffung für Wettervorhersagen <a class=\"anchor\" id=\"02-D-03-wettervorhersagen\"></a> </font>"
   ]
  },
  {
   "cell_type": "markdown",
   "id": "044ab7b7-be5d-4f26-b2c1-03746bd34af0",
   "metadata": {},
   "source": [
    "<font size=\"5\">\n",
    "Die Daten werden von der Internetseite WeatherAPI.com bezogen und im Ordner „2-Data Understanding/Datenbeschaffung/Wettervorhersage/“ gespeichert. Die Daten wurden mittel einer Azure Logic App über die Forecast-API täglich um 23:59 heruntergeladen und fassen damit die Wettervorhersage für den jeweils nächsten Tag. Die Aufbereitung erfolgt wie bei den historischen Wetterdaten.\n",
    "<br>Die Dokumentation der API ist unter folgendem Link erreichbar: https://www.weatherapi.com/docs/\n",
    "</font>"
   ]
  },
  {
   "cell_type": "code",
   "execution_count": null,
   "id": "0ee6d353-5523-481c-8091-951f05a84f0d",
   "metadata": {},
   "outputs": [],
   "source": [
    "import pandas as pd\n",
    "\n",
    "#Daten als Index vom 01.01.2015 bis 31.12.2021\n",
    "indices = pd.date_range('07/31/2021', periods=153, freq='D')\n",
    "#indices = pd.date_range('11/29/2018', periods=2, freq='D')\n",
    "\n",
    "print(\"Von\\t\", indices[0])\n",
    "print(\"Bis\\t\", indices[len(indices)-1])\n",
    "\n",
    "#Städenamen und Koordinaten festlegen\n",
    "cities = [\n",
    "    (\"Freiburg\",\"48,7.85\"),\n",
    "    (\"Mannheim\",\"49.49,8.46\"),\n",
    "    (\"Stuttgart\",\"48.77,9.18\"),\n",
    "    (\"Ulm\",\"48.4010822,9.9876076\")]\n",
    "\n",
    "#city = \"Freiburg\"; coordinates = \"48,7.85\"\n",
    "#city = \"Mannheim\"; coordinates = \"49.49,8.46\"\n",
    "#city = \"Stuttgart\"; coordinates = \"48.77,9.18\"\n",
    "#city = \"Ulm\"; coordinates = \"48.4010822,9.9876076\""
   ]
  },
  {
   "cell_type": "code",
   "execution_count": null,
   "id": "bb3724c7-d8ce-4a4c-8690-f0f8daa5d224",
   "metadata": {},
   "outputs": [],
   "source": [
    "import pandas as pd\n",
    "pd.set_option('display.expand_frame_repr', False)\n",
    "import json\n",
    "\n",
    "#Schleife, um Daten für alle Städte seriell zu verarbeiten\n",
    "for city, coordinates in cities:\n",
    "    \n",
    "    print(city, \"\\t\", coordinates)\n",
    "    \n",
    "    #DataFrame für Wetterdaten erstellen\n",
    "    df_weather = pd.DataFrame()\n",
    "    \n",
    "    #Durchlaufen aller Tage\n",
    "    for index in indices:\n",
    "        \n",
    "        #JSON-Datei für jeweiligen Tag laden\n",
    "        file_path = \"Wettervorhersage/\" + city + \"/\" + index.date().strftime(format=\"%Y-%m-%d\") + \".json\"\n",
    "        file = open(file_path, \"r\")\n",
    "        \n",
    "        #JSON-String auslesen\n",
    "        try:\n",
    "            content = json.loads(file.read())\n",
    "        except:\n",
    "            content = json.loads(open(file_path, 'r').read()[3:])\n",
    "            \n",
    "        #Wetterdaten für jeweiligen Tag in Zeile des DataFrames umwandeln\n",
    "        df_day = pd.DataFrame.from_dict(content[\"forecast\"][\"forecastday\"][0][\"day\"])\n",
    "        df_day = df_day.iloc[2]\n",
    "        \n",
    "        #Astrodaten anhängen\n",
    "        df_astro = pd.DataFrame.from_dict(content[\"forecast\"][\"forecastday\"][0][\"astro\"], orient=\"index\").transpose()\n",
    "        df_day = df_day.append(df_astro.squeeze())\n",
    "\n",
    "        #Zeile für jeweiligen Tag an DataFrame anhängen\n",
    "        df_weather = df_weather.append(df_day, ignore_index=True)\n",
    "\n",
    "        print(index.date())\n",
    "\n",
    "    #Index setzen\n",
    "    df_weather.set_index(pd.date_range('08/01/2021', periods=153, freq='D'), inplace=True)\n",
    "    df_weather.index.name = \"datum\"\n",
    "    \n",
    "    #Wetterdaten bereinigen (Daten in Fahren/Meilen entfernen, Daten zum Mond entfernen)\n",
    "    df_weather.drop([\"avgtemp_f\", \"maxtemp_f\", \"mintemp_f\", \"avgvis_miles\", \"maxwind_mph\", \"totalprecip_in\", \"uv\", \"moonrise\", \"moonset\", \"moon_phase\", \"moon_illumination\"], axis=1, inplace=True)\n",
    "    df_weather.drop([\"daily_chance_of_rain\", \"daily_chance_of_snow\", \"daily_will_it_rain\", \"daily_will_it_snow\"], axis=1, inplace=True)\n",
    "    #Spalten umbenennen\n",
    "    df_weather.columns = [\"luftfeuchtigkeit\", \"durchschnittstemperatur\", \"sichtweite\", \"wetter\", \"hoechsttemperatur\", \"windgeschwindigkeit\", \"tiefsttemperatur\", \"sonnenaufgang\", \"sonnenuntergang\", \"niederschlag\"]\n",
    "    \n",
    "    #Wetterdaten für jeweilige Stadt speichern\n",
    "    filename = (city + \"_vorhersage.csv\").lower()\n",
    "    df_weather.to_csv(filename)"
   ]
  }
 ],
 "metadata": {
  "kernelspec": {
   "display_name": "Python 3",
   "language": "python",
   "name": "python3"
  },
  "language_info": {
   "codemirror_mode": {
    "name": "ipython",
    "version": 3
   },
   "file_extension": ".py",
   "mimetype": "text/x-python",
   "name": "python",
   "nbconvert_exporter": "python",
   "pygments_lexer": "ipython3",
   "version": "3.8.8"
  }
 },
 "nbformat": 4,
 "nbformat_minor": 5
}
