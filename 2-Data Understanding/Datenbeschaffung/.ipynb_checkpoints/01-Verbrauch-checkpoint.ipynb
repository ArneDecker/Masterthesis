{
 "cells": [
  {
   "cell_type": "markdown",
   "id": "96e56cd7-4776-4c5e-b27e-2155af8c9f03",
   "metadata": {},
   "source": [
    "# <font size=\"7\"> Datenbeschaffung für Stromverbrauchsdaten <a class=\"anchor\" id=\"02-D-01-stromverbrauch\"></a> </font>"
   ]
  },
  {
   "cell_type": "markdown",
   "id": "20d81b70-8cec-49cf-b717-965839cf8317",
   "metadata": {},
   "source": [
    "<font size=\"5\">\n",
    "Die Daten werden vom Portal für Strommarktdaten SMARD der Bundesnetzagentur jeweils für ein Jahr mit folgenden Filtern heruntergeladen und im Ordner „2-Data Understanding/Datenbeschaffung/Verbrauch/“ gespeichert:\n",
    "<br>Objektkategorie: Stromverbrauch\n",
    "<br>Datenkategorie: Realisierter Stromverbrauch\n",
    "<br>Regelzone (DE): TransnetBW\n",
    "<br>Datum: 01.01.yyyy bis 31.12.yyyy\n",
    "<br>Dateiformat: CSV\n",
    "\n",
    "Es werden die Daten vom 01.01.2015 bis zum 31.23.2021 verwendet.\n",
    "\n",
    "Das Portal ist unter folgendem Link erreichbar:\n",
    "<br>https://www.smard.de/home/downloadcenter/download-marktdaten#!?downloadAttributes=%7B%22selectedCategory%22:2,%22selectedSubCategory%22:5,%22selectedRegion%22:%22TransnetBW%22,%22from%22:1636066800000,%22to%22:1637017199999,%22selectedFileType%22:%22CSV%22%7D\n",
    "\n",
    "Die Daten werden aus den CSV-Dateien geladen und in einem Dataframe zusammengeführt. Aus den Daten werden nur die Spalte mit dem Datum sowie dem Gesamtlast in MWh geladen. Die übrigen Spalten sind für die weitere Verarbeitung nicht notwendig. Die Spalte „Datum“ wird in „datum“ umbenannt. Die Spalte „Gesamt (Netzlast)[MWh]“ wird in „verbrauch“ umbenannt, außerdem wird der Punkt als Tausender-Trennzeichen entfernt und die Spalte zum Datentyp Integer umgewandelt. \n",
    "Der Stromverbrauch für den gesamten Zeitraum wird dann in der CSV-Datei „verbrauch_gesamt.csv“ zusammengeführt im gleichen Ordner gespeichert.\n",
    "</font>"
   ]
  },
  {
   "cell_type": "code",
   "execution_count": 3,
   "id": "d374646f-cb8f-4db6-a005-768afd61d3bd",
   "metadata": {},
   "outputs": [
    {
     "name": "stdout",
     "output_type": "stream",
     "text": [
      "       datum  verbrauch\n",
      "0 2015-01-01       1380\n",
      "1 2015-01-01       1363\n",
      "2 2015-01-01       1368\n",
      "3 2015-01-01       1360\n",
      "4 2015-01-01       1347\n",
      "\n",
      "           datum  verbrauch\n",
      "35035 2021-12-31       1389\n",
      "35036 2021-12-31       1374\n",
      "35037 2021-12-31       1355\n",
      "35038 2021-12-31       1347\n",
      "35039 2021-12-31       1359\n"
     ]
    }
   ],
   "source": [
    "import pandas as pd\n",
    "\n",
    "#Daten aus CSV-Dateien in DataFrame laden\n",
    "data = pd.read_csv(\"Verbrauch/verbrauch_2015.csv\", delimiter=\";\", usecols=[0, 2], dtype=str)\n",
    "data = data.append(pd.read_csv(\"Verbrauch/verbrauch_2016.csv\", delimiter=\";\", usecols=[0, 2], dtype=str))\n",
    "data = data.append(pd.read_csv(\"Verbrauch/verbrauch_2017.csv\", delimiter=\";\", usecols=[0, 2], dtype=str))\n",
    "data = data.append(pd.read_csv(\"Verbrauch/verbrauch_2018.csv\", delimiter=\";\", usecols=[0, 2], dtype=str))\n",
    "data = data.append(pd.read_csv(\"Verbrauch/verbrauch_2019.csv\", delimiter=\";\", usecols=[0, 2], dtype=str))\n",
    "data = data.append(pd.read_csv(\"Verbrauch/verbrauch_2020.csv\", delimiter=\";\", usecols=[0, 2], dtype=str))\n",
    "data = data.append(pd.read_csv(\"Verbrauch/verbrauch_2021.csv\", delimiter=\";\", usecols=[0, 2], dtype=str))\n",
    "\n",
    "#Spalten umbenennen\n",
    "data.columns = [\"datum\", \"verbrauch\"]\n",
    "\n",
    "#datum als Datetime parsen\n",
    "data[\"datum\"] = pd.to_datetime(data[\"datum\"], dayfirst=True)\n",
    "#Punkt als Tausender-Trennzeichen entfernen und verbrauch in Integer umwandeln\n",
    "data[\"verbrauch\"] = data[\"verbrauch\"].str.replace(\".\", \"\", regex=False)\n",
    "data[\"verbrauch\"] = pd.to_numeric(data[\"verbrauch\"])\n",
    "\n",
    "print(data.head())\n",
    "print()\n",
    "print(data.tail())\n",
    "\n",
    "#Daten als CSV-Datei speichern\n",
    "data.to_csv(\"Verbrauch/verbrauch_gesamt.csv\", index=False)"
   ]
  },
  {
   "cell_type": "markdown",
   "id": "6ef20826-367c-46cc-b1c1-6b6cf6127969",
   "metadata": {},
   "source": [
    "<font size=\"5\">\n",
    "Die Stromverbrauchsdaten aller Jahre müssen von viertelstündlicher Auflösung in stündliche Auflösung umgewandelt werden. Dafür werden die viertelstündlichen Datensätze in je einem Datensatz für jeden Tag gruppiert. Außerdem werden noch die manuell ermittelten Kalenderdaten zu der Datei hinzugefügt. \n",
    "\n",
    "Abschließend werden die Daten in einer CSV-Datei „verbrauch.csv“ im Ordner „2-Data Understanding/Datenbeschaffung/“ gespeichert.\n",
    "</font>"
   ]
  },
  {
   "cell_type": "code",
   "execution_count": 5,
   "id": "30fbf6f1-1e26-420a-b540-e22f542428d7",
   "metadata": {},
   "outputs": [
    {
     "name": "stdout",
     "output_type": "stream",
     "text": [
      "            verbrauch   monat   wochentag feiertag  arbeitstag\n",
      "datum                                                         \n",
      "2015-01-01     126197  Januar  Donnerstag  Neujahr           0\n",
      "2015-01-02     147085  Januar     Freitag      NaN           1\n",
      "2015-01-03     141426  Januar     Samstag      NaN           0\n",
      "2015-01-04     132446  Januar     Sonntag      NaN           0\n",
      "2015-01-05     152611  Januar      Montag      NaN           1\n",
      "\n",
      "            verbrauch     monat   wochentag feiertag  arbeitstag\n",
      "datum                                                           \n",
      "2021-12-27     153489  Dezember      Montag      NaN           1\n",
      "2021-12-28     155182  Dezember    Dienstag      NaN           1\n",
      "2021-12-29     153611  Dezember    Mittwoch      NaN           1\n",
      "2021-12-30     148126  Dezember  Donnerstag      NaN           1\n",
      "2021-12-31     137327  Dezember     Freitag      NaN           1\n"
     ]
    }
   ],
   "source": [
    "import pandas as pd\n",
    "\n",
    "#Daten aus CSV-Dateien in DataFrame laden\n",
    "data = pd.read_csv(\"Verbrauch/verbrauch_gesamt.csv\", index_col=0, parse_dates=True)\n",
    "\n",
    "#Daten von viertelstündlicher zu täglicher Auflösung zusammenfassen\n",
    "data = data.groupby(\"datum\").sum()\n",
    "\n",
    "#Kalenderdaten hinzufügen\n",
    "data = data.join(pd.read_csv(\"kalender.csv\", index_col=0, parse_dates=True))\n",
    "\n",
    "print(data.head())\n",
    "print()\n",
    "print(data.tail())\n",
    "\n",
    "#Daten als CSV-Datei speichern\n",
    "data.to_csv(\"verbrauch.csv\")"
   ]
  }
 ],
 "metadata": {
  "kernelspec": {
   "display_name": "Python 3",
   "language": "python",
   "name": "python3"
  },
  "language_info": {
   "codemirror_mode": {
    "name": "ipython",
    "version": 3
   },
   "file_extension": ".py",
   "mimetype": "text/x-python",
   "name": "python",
   "nbconvert_exporter": "python",
   "pygments_lexer": "ipython3",
   "version": "3.8.8"
  }
 },
 "nbformat": 4,
 "nbformat_minor": 5
}
