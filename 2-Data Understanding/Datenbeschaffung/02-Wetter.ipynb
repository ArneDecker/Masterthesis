{
 "cells": [
  {
   "cell_type": "markdown",
   "id": "a09d4dfd-f946-4dd5-90cd-325fede20138",
   "metadata": {},
   "source": [
    "# <font size=\"7\"> Datenbeschaffung für Wetterdaten <a class=\"anchor\" id=\"02-D-01-wetterdaten\"></a> </font>"
   ]
  },
  {
   "cell_type": "markdown",
   "id": "f1278514-22b5-467d-bcb9-43e07e0feda6",
   "metadata": {},
   "source": [
    "<font size=\"5\">\n",
    "Die Daten werden von der Internetseite WeatherAPI.com über die History-API bezogen und im Ordner „2-Data Understanding/Datenbeschaffung/Wetter/“ gespeichert. Es werden die Daten vom 01.01.2015 bis zum 31.12.2021 verwendet. \n",
    "<br>Die Dokumentation der API ist unter folgendem Link erreichbar: https://www.weatherapi.com/docs/\n",
    "</font>"
   ]
  },
  {
   "cell_type": "code",
   "execution_count": 1,
   "id": "fe50ac6f-ed93-4991-b027-ca55c6fbdd34",
   "metadata": {},
   "outputs": [
    {
     "name": "stdout",
     "output_type": "stream",
     "text": [
      "Von\t 2015-01-01 00:00:00\n",
      "Bis\t 2021-12-31 00:00:00\n"
     ]
    }
   ],
   "source": [
    "import pandas as pd\n",
    "\n",
    "#Daten als Index vom 01.01.2015 bis 31.12.2021\n",
    "indices = pd.date_range('01/01/2015', periods=2557, freq='D')\n",
    "#indices = pd.date_range('11/29/2018', periods=2, freq='D')\n",
    "\n",
    "print(\"Von\\t\", indices[0])\n",
    "print(\"Bis\\t\", indices[len(indices)-1])\n",
    "\n",
    "#Städenamen und Koordinaten festlegen\n",
    "cities = [\n",
    "    (\"Freiburg\",\"48,7.85\"),\n",
    "    (\"Mannheim\",\"49.49,8.46\"),\n",
    "    (\"Stuttgart\",\"48.77,9.18\"),\n",
    "    (\"Ulm\",\"48.4010822,9.9876076\")]\n",
    "\n",
    "#city = \"Freiburg\"; coordinates = \"48,7.85\"\n",
    "#city = \"Mannheim\"; coordinates = \"49.49,8.46\"\n",
    "#city = \"Stuttgart\"; coordinates = \"48.77,9.18\"\n",
    "#city = \"Ulm\"; coordinates = \"48.4010822,9.9876076\""
   ]
  },
  {
   "cell_type": "markdown",
   "id": "7b80bb6e-36eb-437d-8c6d-31f6e2bb684a",
   "metadata": {},
   "source": [
    "<font size=\"5\">\n",
    "Für jede Stadt werden die Wetterdaten eines Tages mittels Aufrufes der API im JSON-Format heruntergeladen und im jeweiligen Ordner der Stadt gespeichert. Als Name wird das jeweilige Datum verwendet.\n",
    "</font>"
   ]
  },
  {
   "cell_type": "code",
   "execution_count": null,
   "id": "2512bb55-7610-46f5-a848-c7d48a2e34f5",
   "metadata": {},
   "outputs": [],
   "source": [
    "import pandas as pd\n",
    "import requests\n",
    "\n",
    "#Schleife, um Daten für alle Städte seriell zu laden\n",
    "for city, coordinates in cities:\n",
    "\n",
    "    print(city, \"\\t\", coordinates)\n",
    "\n",
    "    #Durchlaufen aller Tage\n",
    "    for index in indices:\n",
    "\n",
    "        #URL für Request bei API\n",
    "        url = \"https://weatherapi-com.p.rapidapi.com/history.json\"\n",
    "\n",
    "        #Datum für API formatieren\n",
    "        date = index.date().strftime(format=\"%Y-%m-%d\")\n",
    "\n",
    "        #Abfrage für API\n",
    "        request = {\"q\":coordinates,\"dt\":date,\"lang\":\"en\"}\n",
    "\n",
    "        #Header für API\n",
    "        header = {\n",
    "            'x-rapidapi-key': \"\",\n",
    "            'x-rapidapi-host': \"weatherapi-com.p.rapidapi.com\"\n",
    "            }\n",
    "\n",
    "        #API aufrufen und JSON speichern\n",
    "        response = requests.request(\"GET\", url, headers=header, params=request)\n",
    "\n",
    "        #JSON-Datei im Ordner für jeweilige Stadt speichern\n",
    "        file = open((\"Wetter/\" + city + \"/\" + date + \".json\"), \"w\")\n",
    "        file.write(response.text)\n",
    "        file.close()\n",
    "\n",
    "        print(index.date())"
   ]
  },
  {
   "cell_type": "markdown",
   "id": "7ec42a13-4562-4041-ac05-da9cc4a8311e",
   "metadata": {},
   "source": [
    "<font size=\"5\">\n",
    "Für jede Stadt werden die JSON-Dateien mit den jeweiligen Wetterdaten für jeden Tag seriell eingelesen. Es werden dann die relevanten Attribute aus der JSON-Datei geladen und an einen DataFrame angehangen. Als Index wird das jeweilige Datum verwendet. Viele Daten sind in mehreren Einheiten angegeben, Temperaturen sind beispielsweise in Grad Celsius und Fahrenheit angegeben, Geschwindigkeiten in Kilometer und Meilen pro Stunde etc. Es werden allerdings nur Einheiten aus dem metrischen System und in Grad Celsius verwendet, alle übrigen Attribute werden entfernt. Auch werden Daten wie beispielsweise der Mondauf- und Monduntergang entfernt, da diese Daten nicht Gegenstand der Analyse sind. Abschließend werden die Wetterdaten für die jeweilige Stadt in einer CSV-Datei im Ordner „2-Data Understanding/Datenbeschaffung/“ gespeichert.\n",
    "</font>"
   ]
  },
  {
   "cell_type": "code",
   "execution_count": null,
   "id": "e2bde676-5322-4759-98da-ebe3a3925792",
   "metadata": {},
   "outputs": [],
   "source": [
    "import pandas as pd\n",
    "pd.set_option('display.expand_frame_repr', False)\n",
    "import json\n",
    "\n",
    "#Schleife, um Daten für alle Städte seriell zu verarbeiten\n",
    "for city, coordinates in cities:\n",
    "    \n",
    "    print(city, \"\\t\", coordinates)\n",
    "    \n",
    "    #DataFrame für Wetterdaten erstellen\n",
    "    df_weather = pd.DataFrame()\n",
    "    \n",
    "    #Durchlaufen aller Tage\n",
    "    for index in indices:\n",
    "        \n",
    "        #JSON-Datei für jeweiligen Tag laden\n",
    "        file_path = \"Wetter/\" + city + \"/\" + index.date().strftime(format=\"%Y-%m-%d\") + \".json\"\n",
    "        file = open(file_path, \"r\")\n",
    "        \n",
    "        #JSON-String auslesen\n",
    "        content = json.loads(file.read())\n",
    "\n",
    "        #Wetterdaten für jeweiligen Tag in Zeile des DataFrames umwandeln\n",
    "        df_day = pd.DataFrame.from_dict(content[\"forecast\"][\"forecastday\"][0][\"day\"])\n",
    "        df_day = df_day.iloc[2]\n",
    "        \n",
    "        #Astrodaten anhängen\n",
    "        df_astro = pd.DataFrame.from_dict(content[\"forecast\"][\"forecastday\"][0][\"astro\"], orient=\"index\").transpose()\n",
    "        df_day = df_day.append(df_astro.squeeze())\n",
    "\n",
    "        #Zeile für jeweiligen Tag an DataFrame anhängen\n",
    "        df_weather = df_weather.append(df_day, ignore_index=True)\n",
    "\n",
    "        print(index.date())\n",
    "\n",
    "    #Index setzen\n",
    "    df_weather.set_index(indices, inplace=True)\n",
    "    df_weather.index.name = \"datum\"\n",
    "    \n",
    "    #Wetterdaten bereinigen (Daten in Fahren/Meilen entfernen, Daten zum Mond entfernen)\n",
    "    df_weather.drop([\"avgtemp_f\", \"maxtemp_f\", \"mintemp_f\", \"avgvis_miles\", \"maxwind_mph\", \"totalprecip_in\", \"uv\", \"moonrise\", \"moonset\", \"moon_phase\", \"moon_illumination\"], axis=1, inplace=True)\n",
    "    #Spalten umbenennen\n",
    "    df_weather.columns = [\"luftfeuchtigkeit\", \"durchschnittstemperatur\", \"sichtweite\", \"wetter\", \"hoechsttemperatur\", \"windgeschwindigkeit\", \"tiefsttemperatur\", \"sonnenaufgang\", \"sonnenuntergang\", \"niederschlag\"]\n",
    "    \n",
    "    #Wetterdaten für jeweilige Stadt speichern\n",
    "    filename = (city + \".csv\").lower()\n",
    "    df_weather.to_csv(filename)"
   ]
  }
 ],
 "metadata": {
  "kernelspec": {
   "display_name": "Python 3",
   "language": "python",
   "name": "python3"
  },
  "language_info": {
   "codemirror_mode": {
    "name": "ipython",
    "version": 3
   },
   "file_extension": ".py",
   "mimetype": "text/x-python",
   "name": "python",
   "nbconvert_exporter": "python",
   "pygments_lexer": "ipython3",
   "version": "3.8.8"
  }
 },
 "nbformat": 4,
 "nbformat_minor": 5
}
